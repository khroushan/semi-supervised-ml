{
 "cells": [
  {
   "cell_type": "code",
   "execution_count": 1,
   "id": "32dce3f4-aa3f-4579-8d4d-07b360b85174",
   "metadata": {},
   "outputs": [],
   "source": [
    "from sklearn.datasets import make_classification\n",
    "import scipy \n",
    "import matplotlib.pyplot as pl\n",
    "import pandas as pd\n",
    "import numpy as np\n",
    "from sklearn.linear_model import SGDClassifier\n",
    "from sklearn.pipeline import Pipeline\n",
    "from sklearn.semi_supervised import SelfTrainingClassifier\n",
    "from sklearn.model_selection import train_test_split\n",
    "from sklearn.metrics import roc_auc_score, \\\n",
    "                            auc,\\\n",
    "                            f1_score, \\\n",
    "                            recall_score, \\\n",
    "                            precision_score, \\\n",
    "                            classification_report\n",
    "from sklearn.feature_extraction.text import TfidfVectorizer\n",
    "\n",
    "import sys\n",
    "sys.path.append(\"../src\")\n",
    "from utils import prepare_U_L_data, \\\n",
    "                  self_trainer, \\\n",
    "                  data_sampler, \\\n",
    "                  evaluate_model"
   ]
  },
  {
   "cell_type": "raw",
   "id": "993701da-3f5b-42e4-900c-5ac87edae236",
   "metadata": {},
   "source": [
    "df_train_raw = pd.read_parquet('../../data/imdb_train.parq', \n",
    "                           engine='pyarrow')\n",
    "df_test_raw = pd.read_parquet('../../data/imdb_test.parq', \n",
    "                          engine='pyarrow')"
   ]
  },
  {
   "cell_type": "raw",
   "id": "c9b29e42-c9c9-4c54-bb81-7c7580ea9003",
   "metadata": {},
   "source": [
    "df_train_raw = df_train_raw[df_train_raw['review'] != 'unsup'].copy()\n",
    "df_train_raw.shape\n",
    "df_train_raw['review'] = df_train_raw['review'].map({'pos':1, 'neg':0})\n",
    "df_train_mix, df_test = train_test_split(df_train_raw, test_size=0.3, random_state=42)"
   ]
  },
  {
   "cell_type": "raw",
   "id": "969b90b6-6a6c-4fa8-b630-6919a36b330a",
   "metadata": {},
   "source": [
    "df_train = prepare_U_L_data(df_train_mix, 'review', 'review', 0.5)"
   ]
  },
  {
   "cell_type": "raw",
   "id": "245f2380-7cdc-4948-9457-66dea8b7cbf9",
   "metadata": {},
   "source": [
    "vectorizer = TfidfVectorizer(ngram_range=(1,2))"
   ]
  },
  {
   "cell_type": "raw",
   "id": "258f9e7b-0df8-49f8-ba6f-c36815b2b510",
   "metadata": {},
   "source": [
    "train_vec = vectorizer.fit_transform(df_train['text'])\n",
    "test_vec = vectorizer.transform(df_test['text'])\n",
    "y_train = df_train['review'].values\n",
    "y_test = df_test['review'].values"
   ]
  },
  {
   "cell_type": "raw",
   "id": "3d694359-0915-4d0c-b334-74839c75a9f6",
   "metadata": {},
   "source": [
    "scipy.sparse.save_npz(\"../../data/train_vec.npz\", train_vec)\n",
    "scipy.sparse.save_npz(\"../../data/test_vec.npz\", test_vec)\n",
    "\n",
    "np.savez(\"../../data/y_train.npz\", y_train)\n",
    "np.savez(\"../../data/y_test.npz\", y_test)"
   ]
  },
  {
   "cell_type": "code",
   "execution_count": 2,
   "id": "5515d3bb-aca4-4997-b0f6-4c55938d5e68",
   "metadata": {},
   "outputs": [],
   "source": [
    "train_vec = scipy.sparse.load_npz(\"../../data/train_vec.npz\")\n",
    "test_vec = scipy.sparse.load_npz(\"../../data/test_vec.npz\")\n",
    "y_train = np.load(\"../../data/y_train.npz\")['arr_0']\n",
    "y_test = np.load(\"../../data/y_test.npz\")['arr_0']"
   ]
  },
  {
   "cell_type": "code",
   "execution_count": 3,
   "id": "66c1eb60-7d39-4c88-87d6-572eb7cefa23",
   "metadata": {},
   "outputs": [],
   "source": [
    "cl = SGDClassifier(loss='log', n_jobs=-1) # for self-training prob. is needed"
   ]
  },
  {
   "cell_type": "code",
   "execution_count": 4,
   "id": "ceded314-0a6b-47bd-845e-d5722fcb834b",
   "metadata": {},
   "outputs": [],
   "source": [
    "indices = np.where(y_train != -1)[0]\n",
    "train_L = train_vec[y_train != -1]\n",
    "y_train_L = y_train[y_train != -1]"
   ]
  },
  {
   "cell_type": "code",
   "execution_count": 5,
   "id": "4e18b02f-9c10-41b1-8fae-fce9d1e87d2c",
   "metadata": {},
   "outputs": [
    {
     "data": {
      "text/plain": [
       "((3, 1021333), (7, 1021333))"
      ]
     },
     "execution_count": 5,
     "metadata": {},
     "output_type": "execute_result"
    }
   ],
   "source": [
    "a = train_vec[[0,1,2]]\n",
    "b = train_vec[[5,4,7,5,6,7,5]]\n",
    "a.shape, b.shape"
   ]
  },
  {
   "cell_type": "code",
   "execution_count": 6,
   "id": "1ee7fd48-13d9-46c9-8477-f572506d61d8",
   "metadata": {},
   "outputs": [
    {
     "data": {
      "text/plain": [
       "(10, 1021333)"
      ]
     },
     "execution_count": 6,
     "metadata": {},
     "output_type": "execute_result"
    }
   ],
   "source": [
    "scipy.sparse.vstack([a,b]).shape"
   ]
  },
  {
   "cell_type": "code",
   "execution_count": 7,
   "id": "9ca4f3a1-18b7-41a2-8bfc-bc8ff867f2ea",
   "metadata": {},
   "outputs": [
    {
     "data": {
      "text/plain": [
       "SGDClassifier(loss='log', n_jobs=-1)"
      ]
     },
     "execution_count": 7,
     "metadata": {},
     "output_type": "execute_result"
    }
   ],
   "source": [
    "cl.fit(train_L, y_train_L)"
   ]
  },
  {
   "cell_type": "code",
   "execution_count": 8,
   "id": "c78b5f6b-ead6-4cb4-94ef-29b8e7c30fa7",
   "metadata": {},
   "outputs": [],
   "source": [
    "y_train_predict = cl.predict(train_L)\n",
    "y_test_predict = cl.predict(test_vec)"
   ]
  },
  {
   "cell_type": "code",
   "execution_count": 9,
   "id": "2bcb7b4b-bd73-4c2a-afcb-e3534d09c5dc",
   "metadata": {},
   "outputs": [
    {
     "name": "stdout",
     "output_type": "stream",
     "text": [
      "              precision    recall  f1-score   support\n",
      "\n",
      "           0       0.99      0.99      0.99      2865\n",
      "           1       0.99      0.99      0.99      2804\n",
      "\n",
      "    accuracy                           0.99      5669\n",
      "   macro avg       0.99      0.99      0.99      5669\n",
      "weighted avg       0.99      0.99      0.99      5669\n",
      "\n"
     ]
    }
   ],
   "source": [
    "print(classification_report(y_train_L, y_train_predict))"
   ]
  },
  {
   "cell_type": "code",
   "execution_count": 10,
   "id": "a9b797cc-3e24-490e-afb0-2b2d849e604d",
   "metadata": {},
   "outputs": [
    {
     "name": "stdout",
     "output_type": "stream",
     "text": [
      "              precision    recall  f1-score   support\n",
      "\n",
      "           0       0.88      0.84      0.86      3748\n",
      "           1       0.84      0.88      0.86      3752\n",
      "\n",
      "    accuracy                           0.86      7500\n",
      "   macro avg       0.86      0.86      0.86      7500\n",
      "weighted avg       0.86      0.86      0.86      7500\n",
      "\n"
     ]
    }
   ],
   "source": [
    "print(classification_report(y_test, y_test_predict))"
   ]
  },
  {
   "cell_type": "code",
   "execution_count": 11,
   "id": "8433fd47-54f8-4e50-94db-085b1b026b8c",
   "metadata": {},
   "outputs": [],
   "source": [
    "sgd = SGDClassifier(loss='log', n_jobs=-1)\n",
    "cl_self = SelfTrainingClassifier(sgd, threshold=0.95)"
   ]
  },
  {
   "cell_type": "code",
   "execution_count": 12,
   "id": "9c2ffc51-a26b-411d-a8e2-9dcc11c9c998",
   "metadata": {},
   "outputs": [
    {
     "data": {
      "text/plain": [
       "SelfTrainingClassifier(base_estimator=SGDClassifier(loss='log', n_jobs=-1),\n",
       "                       threshold=0.95)"
      ]
     },
     "execution_count": 12,
     "metadata": {},
     "output_type": "execute_result"
    }
   ],
   "source": [
    "cl_self.fit(train_vec, y_train)"
   ]
  },
  {
   "cell_type": "code",
   "execution_count": null,
   "id": "8b407418-497d-496f-983d-0c6513c523a0",
   "metadata": {},
   "outputs": [
    {
     "name": "stdout",
     "output_type": "stream",
     "text": [
      "running for 0.05\n",
      "==========\n",
      "\n"
     ]
    }
   ],
   "source": [
    "train = [train_vec, y_train]\n",
    "test = [test_vec, y_test]\n",
    "roc_scores = {}\n",
    "roc_stds = {}\n",
    "for i, l_frac in enumerate(np.linspace(0.05, 0.1, 10)):\n",
    "    print(f\"running for {l_frac:.2}\")\n",
    "    print(\"==========\\n\")\n",
    "    roc_scores[i] = []\n",
    "    roc_stds[i] = []\n",
    "    for u_frac in np.linspace(0.001, 0.5, 10):\n",
    "        roc, roc_std = self_trainer(ml_trainer=cl_self, \n",
    "                           feature_cols='text',\n",
    "                           target_col='review',\n",
    "                           train=train,\n",
    "                           test=test,\n",
    "                           l_frac=l_frac, \n",
    "                           u_frac=u_frac, \n",
    "                           n_realization=10)\n",
    "        roc_scores[i].append(roc)\n",
    "        roc_stds[i].append(roc_std)"
   ]
  },
  {
   "cell_type": "code",
   "execution_count": null,
   "id": "87fbb39d-e698-45b9-88b0-e1bb5577de39",
   "metadata": {},
   "outputs": [],
   "source": [
    "l_num, u_num = (y_train!=-1).sum(), (y_train==-1).sum()\n",
    "print(f\"Labeled Num: {l_num}, Unlabeled: {u_num}\")\n",
    "fig, ax = pl.subplots(10, 1, figsize=(8,36))\n",
    "for i,k in zip(roc_scores.keys(), l_num*np.linspace(0.05, 0.1, 10)):\n",
    "    l_roc = roc_scores[i][0]\n",
    "    roc_ratio = (roc_scores[i] - l_roc)/l_roc\n",
    "    ax[i].errorbar(u_num*np.linspace(0.001, 0.5, 10), roc_scores[i], roc_stds[i], \n",
    "                   marker='s', mfc='red')\n",
    "    ax[i].set_title('L fraction: {:}'.format(int(k)))\n",
    "    ax[i].set_ylim(0.7, 0.83)\n",
    "pl.xlabel('Size of Unlabeled Dataset')\n",
    "pl.ylabel('Ratio of ROC Improvement')"
   ]
  },
  {
   "cell_type": "code",
   "execution_count": null,
   "id": "7bbeff39-0773-4bff-8173-38465f62e103",
   "metadata": {},
   "outputs": [],
   "source": []
  }
 ],
 "metadata": {
  "kernelspec": {
   "display_name": "Python 3 (ipykernel)",
   "language": "python",
   "name": "python3"
  },
  "language_info": {
   "codemirror_mode": {
    "name": "ipython",
    "version": 3
   },
   "file_extension": ".py",
   "mimetype": "text/x-python",
   "name": "python",
   "nbconvert_exporter": "python",
   "pygments_lexer": "ipython3",
   "version": "3.7.6"
  }
 },
 "nbformat": 4,
 "nbformat_minor": 5
}
